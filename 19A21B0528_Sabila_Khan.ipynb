{
  "nbformat": 4,
  "nbformat_minor": 0,
  "metadata": {
    "colab": {
      "name": "19A21B0528-Sabila Khan.ipynb",
      "provenance": [],
      "collapsed_sections": [],
      "authorship_tag": "ABX9TyOHFgEGCcKPpXutj5+B4+ZR",
      "include_colab_link": true
    },
    "kernelspec": {
      "name": "python3",
      "display_name": "Python 3"
    },
    "language_info": {
      "name": "python"
    }
  },
  "cells": [
    {
      "cell_type": "markdown",
      "metadata": {
        "id": "view-in-github",
        "colab_type": "text"
      },
      "source": [
        "<a href=\"https://colab.research.google.com/github/Guffrankhan/Guffrankhan/blob/main/19A21B0528_Sabila_Khan.ipynb\" target=\"_parent\"><img src=\"https://colab.research.google.com/assets/colab-badge.svg\" alt=\"Open In Colab\"/></a>"
      ]
    },
    {
      "cell_type": "markdown",
      "metadata": {
        "id": "srFgcXoJWO-A"
      },
      "source": [
        "EXERCISE-1 BASICS\n",
        "\n",
        "a) Running instructions in interactive interpreter and a python script"
      ]
    },
    {
      "cell_type": "code",
      "metadata": {
        "id": "8v1gphD4rFQB",
        "colab": {
          "base_uri": "https://localhost:8080/"
        },
        "outputId": "98cbb1df-dbfb-49c8-acfc-a4cc654451ab"
      },
      "source": [
        "print(\"Hello,Sabila\")"
      ],
      "execution_count": null,
      "outputs": [
        {
          "output_type": "stream",
          "text": [
            "Hello,Sabila\n"
          ],
          "name": "stdout"
        }
      ]
    },
    {
      "cell_type": "markdown",
      "metadata": {
        "id": "H4U5nXARWodk"
      },
      "source": [
        "b)Write a program to purposefully raise identation error and correct it"
      ]
    },
    {
      "cell_type": "code",
      "metadata": {
        "id": "QEnvYmsTrzPL",
        "colab": {
          "base_uri": "https://localhost:8080/",
          "height": 128
        },
        "outputId": "b78aa19c-f5d2-49f4-e476-1453775a2c6a"
      },
      "source": [
        "if True:\n",
        "print(\"True\")\n",
        "else:\n",
        "  print(\"false\")"
      ],
      "execution_count": null,
      "outputs": [
        {
          "output_type": "error",
          "ename": "IndentationError",
          "evalue": "ignored",
          "traceback": [
            "\u001b[0;36m  File \u001b[0;32m\"<ipython-input-2-ca40f8b40d0e>\"\u001b[0;36m, line \u001b[0;32m2\u001b[0m\n\u001b[0;31m    print(\"True\")\u001b[0m\n\u001b[0m        ^\u001b[0m\n\u001b[0;31mIndentationError\u001b[0m\u001b[0;31m:\u001b[0m expected an indented block\n"
          ]
        }
      ]
    },
    {
      "cell_type": "code",
      "metadata": {
        "id": "8vSy3IwDsjko",
        "colab": {
          "base_uri": "https://localhost:8080/"
        },
        "outputId": "dd8bdfd9-0ced-484e-d0ec-542cee156076"
      },
      "source": [
        "if True:\n",
        " print(\"True\")\n",
        "else:\n",
        "  print(\"false\")"
      ],
      "execution_count": null,
      "outputs": [
        {
          "output_type": "stream",
          "text": [
            "True\n"
          ],
          "name": "stdout"
        }
      ]
    },
    {
      "cell_type": "markdown",
      "metadata": {
        "id": "5-42DaHEXFfw"
      },
      "source": [
        "EXERCISE-2 OPERATORS\n",
        "\n",
        "a)Write a program to compute distance between to points and taking input from the user"
      ]
    },
    {
      "cell_type": "code",
      "metadata": {
        "id": "kee1mLe8uLXm",
        "colab": {
          "base_uri": "https://localhost:8080/"
        },
        "outputId": "f331736d-3b4d-48b1-9f6b-4875b539c989"
      },
      "source": [
        "import math\n",
        "x1=int(input(\"Enter x1 value:\"))\n",
        "x2=int(input(\"Enter x2 value:\"))\n",
        "y1=int(input(\"Enter y1 value:\"))\n",
        "y2=int(input(\"Enter y2 value:\"))\n",
        "d=math.sqrt((x2-x1)**2+((y2-y1)**2))\n",
        "print(\"Distance of two points:\",d)"
      ],
      "execution_count": null,
      "outputs": [
        {
          "output_type": "stream",
          "text": [
            "Enter x1 value:6\n",
            "Enter x2 value:7\n",
            "Enter y1 value:2\n",
            "Enter y2 value:5\n",
            "Distance of two points: 3.1622776601683795\n"
          ],
          "name": "stdout"
        }
      ]
    },
    {
      "cell_type": "code",
      "metadata": {
        "id": "DkvKC7N86KX-"
      },
      "source": [
        ""
      ],
      "execution_count": null,
      "outputs": []
    },
    {
      "cell_type": "markdown",
      "metadata": {
        "id": "YhN5B0cJaEFy"
      },
      "source": [
        "b)Write a program add.py that takes 2 numbers as command line arguments and print its sum"
      ]
    },
    {
      "cell_type": "code",
      "metadata": {
        "colab": {
          "base_uri": "https://localhost:8080/"
        },
        "id": "eHJOt9TVaMQL",
        "outputId": "3f7e02a2-ff4c-44de-b1b1-3e92f7adbc49"
      },
      "source": [
        "!bash"
      ],
      "execution_count": null,
      "outputs": [
        {
          "output_type": "stream",
          "text": [
            "bash: cannot set terminal process group (60): Inappropriate ioctl for device\n",
            "bash: no job control in this shell\n",
            "\u001b[01;34m/content\u001b[00m# python add.py 10 20\n",
            "Sum of two numbers is: 30\n",
            "\u001b[01;34m/content\u001b[00m# \n",
            "\u001b[01;34m/content\u001b[00m# \n",
            "\u001b[01;34m/content\u001b[00m# \n",
            "\u001b[01;34m/content\u001b[00m# exit\n"
          ],
          "name": "stdout"
        }
      ]
    },
    {
      "cell_type": "markdown",
      "metadata": {
        "id": "8oLruneVaoB1"
      },
      "source": [
        "EXERCISE-3 CONTROL FLOW\n",
        "\n",
        "a)Write a program for checking whether the given number is an even number or not"
      ]
    },
    {
      "cell_type": "code",
      "metadata": {
        "id": "GEop_wbVw27D",
        "colab": {
          "base_uri": "https://localhost:8080/"
        },
        "outputId": "7c295586-5dd3-4eee-c432-1fe81450a441"
      },
      "source": [
        "n=int(input(\"Enter a number\"))\n",
        "if n%2==0:\n",
        "  print(\"Given number is even\")\n",
        "else:\n",
        "  print(\"Given number is odd\")"
      ],
      "execution_count": null,
      "outputs": [
        {
          "output_type": "stream",
          "text": [
            "Enter a number7\n",
            "Given number is odd\n"
          ],
          "name": "stdout"
        }
      ]
    },
    {
      "cell_type": "markdown",
      "metadata": {
        "id": "UQEtvdgsa-Jr"
      },
      "source": [
        "b)Using a for loop, write a program that prints out the decimal equivalents of 1/2,1/3,1/4,....1/10"
      ]
    },
    {
      "cell_type": "code",
      "metadata": {
        "id": "mE_i10lcxyUP",
        "colab": {
          "base_uri": "https://localhost:8080/"
        },
        "outputId": "5fbdcf14-f278-42b8-dee1-860e6207a29b"
      },
      "source": [
        "\n",
        "n=int(input(\"Enter a number:\"))\n",
        "for i in range(2,n):\n",
        "  d=1/i\n",
        "  print(\"1/\"+str(i)+\"=\",d)\n"
      ],
      "execution_count": null,
      "outputs": [
        {
          "output_type": "stream",
          "text": [
            "Enter a number:9\n",
            "1/2= 0.5\n",
            "1/3= 0.3333333333333333\n",
            "1/4= 0.25\n",
            "1/5= 0.2\n",
            "1/6= 0.16666666666666666\n",
            "1/7= 0.14285714285714285\n",
            "1/8= 0.125\n"
          ],
          "name": "stdout"
        }
      ]
    },
    {
      "cell_type": "markdown",
      "metadata": {
        "id": "0KADlyDGbRse"
      },
      "source": [
        "c)Write a program using a for loop that loops over a sequence.What is sequence"
      ]
    },
    {
      "cell_type": "code",
      "metadata": {
        "id": "PKHflhHSykcU",
        "colab": {
          "base_uri": "https://localhost:8080/"
        },
        "outputId": "3dea678e-4bd0-4f08-b054-8a24d5d444c1"
      },
      "source": [
        "arr=[10,\"abc\",-45,'b',11.2,True,5,10.6,'xyz']\n",
        "print(\"Given Array:\",arr)\n",
        "for x in arr:\n",
        "  print(x)\n"
      ],
      "execution_count": null,
      "outputs": [
        {
          "output_type": "stream",
          "text": [
            "Given Array: [10, 'abc', -45, 'b', 11.2, True, 5, 10.6, 'xyz']\n",
            "10\n",
            "abc\n",
            "-45\n",
            "b\n",
            "11.2\n",
            "True\n",
            "5\n",
            "10.6\n",
            "xyz\n"
          ],
          "name": "stdout"
        }
      ]
    },
    {
      "cell_type": "markdown",
      "metadata": {
        "id": "meojyugWbodH"
      },
      "source": [
        "d)Write a program using a while loop that asks the user for a number,and prints a countdown from that number to zero"
      ]
    },
    {
      "cell_type": "code",
      "metadata": {
        "id": "Q6GscrQ6zHuw",
        "colab": {
          "base_uri": "https://localhost:8080/"
        },
        "outputId": "9ce00823-9637-47d0-a77d-7f6a97fc4021"
      },
      "source": [
        "n=int(input(\"ENter value of n:\"))\n",
        "while n>=0:\n",
        "  print(n)\n",
        "  n=n-1"
      ],
      "execution_count": null,
      "outputs": [
        {
          "output_type": "stream",
          "text": [
            "ENter value of n:10\n",
            "10\n",
            "9\n",
            "8\n",
            "7\n",
            "6\n",
            "5\n",
            "4\n",
            "3\n",
            "2\n",
            "1\n",
            "0\n"
          ],
          "name": "stdout"
        }
      ]
    },
    {
      "cell_type": "markdown",
      "metadata": {
        "id": "v44KmSSXcBsn"
      },
      "source": [
        "EXERCISE-4 CONTROLLED FLOW CONTINUED\n",
        "\n",
        "a)Find the sum of all the primes below two million"
      ]
    },
    {
      "cell_type": "code",
      "metadata": {
        "id": "XzYDH_6hzoHX",
        "colab": {
          "base_uri": "https://localhost:8080/"
        },
        "outputId": "39b06d9e-e0d8-4039-e191-c9f273860bde"
      },
      "source": [
        "n=int(input(\"Enter an ending number:\"))\n",
        "st=\"\"\n",
        "sum=0\n",
        "for i in range(2,n):\n",
        "  state=True\n",
        "  for j in range(2,i):\n",
        "    if(i%j)==0:\n",
        "      state=False\n",
        "      break;\n",
        "  if state==True:\n",
        "    st+=\" \"+str(i)\n",
        "    sum+=i\n",
        "print(\"Prime numbers:\")\n",
        "print(st)\n",
        "print(\"Sum of the prime numbes:\",sum)"
      ],
      "execution_count": null,
      "outputs": [
        {
          "output_type": "stream",
          "text": [
            "Enter an ending number:100\n",
            "Prime numbers:\n",
            " 2 3 5 7 11 13 17 19 23 29 31 37 41 43 47 53 59 61 67 71 73 79 83 89 97\n",
            "Sum of the prime numbes: 1060\n"
          ],
          "name": "stdout"
        }
      ]
    },
    {
      "cell_type": "markdown",
      "metadata": {
        "id": "c_qfWR86ciTQ"
      },
      "source": [
        "b)Each new term in the fibonacci sequence is generated by adding the previous two terms.By starting with 1 and 2 ,the first 10 terms will be :1,2,3,5,8,13,21,34,55,89,..."
      ]
    },
    {
      "cell_type": "code",
      "metadata": {
        "id": "8Zlx0SDxmR7h",
        "colab": {
          "base_uri": "https://localhost:8080/"
        },
        "outputId": "6d4789d2-b9a8-4ad6-c901-7e08f612ecba"
      },
      "source": [
        "n=int(input(\"Enter value of n:\"))\n",
        "a=0\n",
        "b=1\n",
        "c=a+b\n",
        "while c<n:\n",
        "  print(c,end=\" \")\n",
        "  a=b\n",
        "  b=c\n",
        "  c=a+b"
      ],
      "execution_count": null,
      "outputs": [
        {
          "output_type": "stream",
          "text": [
            "Enter value of n:100\n",
            "1 2 3 5 8 13 21 34 55 89 "
          ],
          "name": "stdout"
        }
      ]
    },
    {
      "cell_type": "markdown",
      "metadata": {
        "id": "WMde5VUgcyM2"
      },
      "source": [
        "c)By considering the terms in the fibonacci sequence whose values do not exceed four million, find the sum of the even-valued terms."
      ]
    },
    {
      "cell_type": "code",
      "metadata": {
        "id": "x-DhhvoKm66A",
        "colab": {
          "base_uri": "https://localhost:8080/"
        },
        "outputId": "97a225d7-b33a-42c9-c347-322a02101fca"
      },
      "source": [
        "n=int(input(\"Enter value of n:\"))\n",
        "a=0\n",
        "b=1\n",
        "c=a+b\n",
        "sum=0\n",
        "print(\"Even numbers in Fibonacci series:\",end=\" \")\n",
        "while c<=n:\n",
        "  if c%2==0:\n",
        "    print(c,end=' ')\n",
        "    sum+=c\n",
        "  a=b\n",
        "  b=c\n",
        "  c=a+b\n",
        "print(\"\\nSum of Fibonacci series is:\",sum)"
      ],
      "execution_count": null,
      "outputs": [
        {
          "output_type": "stream",
          "text": [
            "Enter value of n:200000\n",
            "Even numbers in Fibonacci series: 2 8 34 144 610 2584 10946 46368 196418 \n",
            "Sum of Fibonacci series is: 257114\n"
          ],
          "name": "stdout"
        }
      ]
    },
    {
      "cell_type": "markdown",
      "metadata": {
        "id": "ivt9MSYzdCdD"
      },
      "source": [
        "EXERCISE-5 DS\n",
        "\n",
        "a)Write a program to count the numbers of characters in the string and store them in a dictionary data structure"
      ]
    },
    {
      "cell_type": "code",
      "metadata": {
        "id": "vyd_eZDqnnq2",
        "colab": {
          "base_uri": "https://localhost:8080/"
        },
        "outputId": "11c27fdd-be32-4201-e1bc-445d38061e79"
      },
      "source": [
        "name=input(\"Enter a name:\")\n",
        "dic={}\n",
        "for ch in name:\n",
        "  keys=dic.keys()\n",
        "  if(ch in keys):\n",
        "    dic[ch]=dic[ch]+1\n",
        "  else:\n",
        "    dic[ch]=1\n",
        "print(\"Dictionary is :\",dic)"
      ],
      "execution_count": null,
      "outputs": [
        {
          "output_type": "stream",
          "text": [
            "Enter a name:sabilakhan\n",
            "Dictionary is : {'s': 1, 'a': 3, 'b': 1, 'i': 1, 'l': 1, 'k': 1, 'h': 1, 'n': 1}\n"
          ],
          "name": "stdout"
        }
      ]
    },
    {
      "cell_type": "markdown",
      "metadata": {
        "id": "BVkyLia6dWby"
      },
      "source": [
        "b)Write a program to use split and join methods in the string and trace a birthday with a dictionary data structure"
      ]
    },
    {
      "cell_type": "code",
      "metadata": {
        "id": "vcBfzY97n99Q",
        "colab": {
          "base_uri": "https://localhost:8080/"
        },
        "outputId": "0680d31b-d6e9-40f1-db9d-7c863ffa81cf"
      },
      "source": [
        "dob={\"alekhya\":\"21-august-2001\",\"navya\":\"20-Sep-2001\",\"sabila\":\"26-nov-2001\"}\n",
        "name=input(\"Which person DOB you want:\")\n",
        "l=name.split()\n",
        "birth=\"\"\n",
        "for i in l:\n",
        "  if i in dob.keys():\n",
        "    pers=i\n",
        "print(\" \".join([pers,\"Birthday is\",dob[pers]]) )"
      ],
      "execution_count": null,
      "outputs": [
        {
          "output_type": "stream",
          "text": [
            "Which person DOB you want:sabila\n",
            "sabila Birthday is 26-nov-2001\n"
          ],
          "name": "stdout"
        }
      ]
    },
    {
      "cell_type": "markdown",
      "metadata": {
        "id": "1XI_JWJ8e1Kq"
      },
      "source": [
        "EXERCISE-6 DS CONTINUED\n",
        "\n",
        "a)Write a program combine lists that combines these lists into a directory"
      ]
    },
    {
      "cell_type": "code",
      "metadata": {
        "colab": {
          "base_uri": "https://localhost:8080/"
        },
        "id": "HmULGjxHDvAQ",
        "outputId": "6096b038-5573-4a3a-8ccd-6c8c473a83fa"
      },
      "source": [
        "subj=[\"DAA\",\"OS\",\"DBMS\",\"P&S\",\"PPL\",\"SE\"]\n",
        "marks=[85,96,78,68,98,56]\n",
        "print(\"Given lists are:\")\n",
        "print(\"Subject Names:\",subj)\n",
        "print(\"Subject Marks:\",marks)\n",
        "dic=dict(zip(subj,marks))\n",
        "print(\"\\n Dictionary:\",dic)"
      ],
      "execution_count": null,
      "outputs": [
        {
          "output_type": "stream",
          "text": [
            "Given lists are:\n",
            "Subject Names: ['DAA', 'OS', 'DBMS', 'P&S', 'PPL', 'SE']\n",
            "Subject Marks: [85, 96, 78, 68, 98, 56]\n",
            "\n",
            " Dictionary: {'DAA': 85, 'OS': 96, 'DBMS': 78, 'P&S': 68, 'PPL': 98, 'SE': 56}\n"
          ],
          "name": "stdout"
        }
      ]
    },
    {
      "cell_type": "markdown",
      "metadata": {
        "id": "zAdd4pwZgBpW"
      },
      "source": [
        "b) Write a program to count frequency of characters in a given file.Can you use character frequency to tell whether the given file is a Python program file,C program le or a text file?"
      ]
    },
    {
      "cell_type": "code",
      "metadata": {
        "id": "1HBPTmOwEp6x",
        "colab": {
          "base_uri": "https://localhost:8080/"
        },
        "outputId": "6308cfd6-c3d5-4465-b37e-60670e1550c4"
      },
      "source": [
        "filetypes=['.py','.c','.txt']\n",
        "fn=input(\"Enter the file name:\")\n",
        "f=open(fn,\"r\")\n",
        "count=dict()\n",
        "print(\"Given file is\",end=\"\")\n",
        "for ft in filetypes:\n",
        "  if(ft in fn):\n",
        "    if(ft=='.py'):\n",
        "      print(\"Python file\")\n",
        "    elif(ft=='.c'):\n",
        "      print(\"C File\")\n",
        "    elif(ft=='.txt'):\n",
        "       print(\"Text File\")\n",
        "for line in f:\n",
        "  for ch in line:\n",
        "    if ch in count:\n",
        "      count[ch]=count[ch]+1\n",
        "    else:\n",
        "      count[ch]=1\n",
        "print(count)\n",
        "f.close()"
      ],
      "execution_count": null,
      "outputs": [
        {
          "output_type": "stream",
          "text": [
            "Enter the file name:sabi.txt\n",
            "Given file isText File\n",
            "{'M': 1, 'y': 1, ' ': 4, 'n': 2, 'a': 4, 'm': 1, 'e': 1, 'i': 2, 's': 2, 'b': 1, 'l': 1, 'k': 1, 'h': 1}\n"
          ],
          "name": "stdout"
        }
      ]
    },
    {
      "cell_type": "markdown",
      "metadata": {
        "id": "kmwxvJQBgrTq"
      },
      "source": [
        "EXERCISE-7 FILES\n",
        "\n",
        "a) Write a program to print each line of a FIle in reverse order"
      ]
    },
    {
      "cell_type": "code",
      "metadata": {
        "id": "ywGjbmTMFi6s",
        "colab": {
          "base_uri": "https://localhost:8080/"
        },
        "outputId": "7d01a826-4bb3-4cee-ff48-22c5aab00242"
      },
      "source": [
        "obj=open(\"sabi.txt\",\"r\")\n",
        "if obj:\n",
        "  st=obj.read()\n",
        "  print(\"File content is:\\n\",st)\n",
        "obj.close()\n",
        "print()\n",
        "lines=st.split('\\n')\n",
        "for ln in lines:\n",
        "  i=len(ln)-1\n",
        "  while(i>=0):\n",
        "    print(ln[i],end=\"\")\n",
        "    i=i-1\n",
        "  print()"
      ],
      "execution_count": null,
      "outputs": [
        {
          "output_type": "stream",
          "text": [
            "File content is:\n",
            " My name is sabila khan\n",
            "\n",
            "nahk alibas si eman yM\n"
          ],
          "name": "stdout"
        }
      ]
    },
    {
      "cell_type": "markdown",
      "metadata": {
        "id": "9SeWvJtnhKXq"
      },
      "source": [
        "b) Write a program to compute the number of characters,words and lines in a file"
      ]
    },
    {
      "cell_type": "code",
      "metadata": {
        "id": "V0iRj-SxGega",
        "colab": {
          "base_uri": "https://localhost:8080/"
        },
        "outputId": "dcd2c2f7-00c1-493e-fe20-e769cbee1801"
      },
      "source": [
        "nc=nw=nl=0\n",
        "file=open(\"sabi.txt\",\"r\")\n",
        "nl=nw=nc=0\n",
        "print(\"File Content:\\n\")\n",
        "for line in file:\n",
        "  ln=line.strip(\"\\n\")\n",
        "  print(ln)\n",
        "  words=ln.split()\n",
        "  nl+=1\n",
        "  nw+=len(words)\n",
        "  nc+=len(line)\n",
        "file.close()\n",
        "print(\"\\n No.of lines:\",nl,\"words:\",nw,\"characters:\",nc)"
      ],
      "execution_count": null,
      "outputs": [
        {
          "output_type": "stream",
          "text": [
            "File Content:\n",
            "\n",
            "My name is sabila khan\n",
            "\n",
            " No.of lines: 1 words: 5 characters: 22\n"
          ],
          "name": "stdout"
        }
      ]
    },
    {
      "cell_type": "markdown",
      "metadata": {
        "id": "iXVTUdDehfxA"
      },
      "source": [
        "EXERCISE-8 FUNCTIONS\n",
        "\n",
        "a) Write a function ball collide that takes two balls as parameters and computes if they are colliding.Your function should return a Boolean representing whether or not the balls are colliding\n",
        "\n",
        "Hint: Represent a ball on a plane as a tuple of (x,y,r),r being the radius.If (distance betweem two balls centers)<=(sum of their radii) then (they are colliding)."
      ]
    },
    {
      "cell_type": "code",
      "metadata": {
        "colab": {
          "base_uri": "https://localhost:8080/"
        },
        "id": "QQC2qqtSG0Tw",
        "outputId": "6262bfb4-7c7b-47f2-ec37-b6190ce6d512"
      },
      "source": [
        "import math\n",
        "def collide(ball_tup1,ball_tup2):\n",
        "  x1,y1,r1=ball_tup1\n",
        "  x2,y2,r2=ball_tup2\n",
        "  print(\"Ball-01:\",ball_tup1)\n",
        "  print(\"Ball-02:\",ball_tup2)\n",
        "  d=math.sqrt((x2-x1)**2+(y2-y1)**2)\n",
        "  print(\"Centroid Distance of two balls:\",d)\n",
        "  print(\"Sum of Radius Ball-01 & Ball-02 is:{}+{}={}\".format(r1,r2,r1+r2))\n",
        "  if d<=r1+r2:\n",
        "    return True\n",
        "  else:\n",
        "    return False\n",
        "b1=(0,2,5)\n",
        "b2=(1,3,6)\n",
        "if collide(b1,b2):\n",
        "  print(\"Balls are Collide...!\")\n",
        "else:\n",
        "  print(\"Balls are not Collide...!\")"
      ],
      "execution_count": null,
      "outputs": [
        {
          "output_type": "stream",
          "text": [
            "Ball-01: (0, 2, 5)\n",
            "Ball-02: (1, 3, 6)\n",
            "Centroid Distance of two balls: 1.4142135623730951\n",
            "Sum of Radius Ball-01 & Ball-02 is:5+6=11\n",
            "Balls are Collide...!\n"
          ],
          "name": "stdout"
        }
      ]
    },
    {
      "cell_type": "markdown",
      "metadata": {
        "id": "Fsogm9fEh95E"
      },
      "source": [
        "b) Find mean,median,mode for the given set of numbers in a list"
      ]
    },
    {
      "cell_type": "code",
      "metadata": {
        "id": "ctBOoDzqLswk"
      },
      "source": [
        "def list_mean(num_list):\n",
        "  return sum(num_list)/len(num_list)\n",
        "def list_median(num_list):\n",
        "  num_list.sort()\n",
        "  \n",
        "  n=len(num_list)\n",
        "  mid=n//2\n",
        "  if(n%2==1):\n",
        "    return num_list[mid]\n",
        "  else:\n",
        "    mid\n",
        "    return(num_list[mid-1]+num_list[mid])/2\n",
        "def list_mode(num_list):\n",
        "  num_list.sort()\n",
        "  temp=[]\n",
        "  i=0\n",
        "  while i<len(num_list):\n",
        "    temp.append(num_list.count(num_list[i]))\n",
        "    i+=1\n",
        "  dic=dict(zip(num_list,temp))\n",
        "  mode={k for(k,v) in dic.items()if v==max(temp)}\n",
        "  return mode\n",
        "lst=[1,2,3,2,6,3,3,5,4]\n",
        "print(\"Given list is:\",lst)\n",
        "print(\"Mean of the given list:\",list_mean(lst))\n",
        "print(\"Median of the givem list:\",list_median(lst))\n",
        "print(\"Mode of the given list:\",list_mode(lst))"
      ],
      "execution_count": null,
      "outputs": []
    },
    {
      "cell_type": "markdown",
      "metadata": {
        "id": "JDZxpPlFiV7d"
      },
      "source": [
        "EXERCISE-9 FUNCTIONS CONTINUED\n",
        "\n",
        "a) Write a function nearly equal to test whether two strings are nearly equal.Two strings a and b are nearly equal when a can be generated by a single mutuation on b"
      ]
    },
    {
      "cell_type": "code",
      "metadata": {
        "colab": {
          "base_uri": "https://localhost:8080/"
        },
        "id": "YieHAAHKMJOU",
        "outputId": "ad4f6be2-5af8-4c86-dbb3-e33476586f25"
      },
      "source": [
        "def nearly_eq(str1,str2):\n",
        "  count=0\n",
        "  i=j=0\n",
        "  while(i<len(str1)and j<len(str2)):\n",
        "    if(str1[i]!=str2[j]):\n",
        "      count+=1\n",
        "      if(len(str1)>len(str2)):\n",
        "        i+=1\n",
        "      elif(len(str1)==len(str2)):\n",
        "        pass\n",
        "      else:\n",
        "        i-=1\n",
        "    if(count>1):\n",
        "      return False\n",
        "    i+=1\n",
        "    j+=1\n",
        "  if(count<2):\n",
        "    return True\n",
        "s1=input(\"Enter String1:\")\n",
        "s2=input(\"Enter String2:\")\n",
        "bln=nearly_eq(s1,s2)\n",
        "if(bln):\n",
        "  print(\"Strings are nearly equal\")\n",
        "else:\n",
        "  print(\"Strings are not equal\")"
      ],
      "execution_count": null,
      "outputs": [
        {
          "output_type": "stream",
          "text": [
            "Enter String1:sabila\n",
            "Enter String2:sabila\n",
            "Strings are nearly equal\n"
          ],
          "name": "stdout"
        }
      ]
    },
    {
      "cell_type": "markdown",
      "metadata": {
        "id": "HEZFzHn3jcPG"
      },
      "source": [
        "b)Write a function dup to find all duplicates in the list"
      ]
    },
    {
      "cell_type": "code",
      "metadata": {
        "colab": {
          "base_uri": "https://localhost:8080/"
        },
        "id": "LjgLMxlIM05S",
        "outputId": "abfd13bb-5aef-4659-9d6a-a88f16b6854a"
      },
      "source": [
        "def dups(numlist):\n",
        "  temp=[]\n",
        "  for i in numlist:\n",
        "    cnt=numlist.count(i)\n",
        "    if(cnt>1 and (i not in temp)):\n",
        "      temp.append(i)\n",
        "  print(\"Duplicates in the list:\",temp)\n",
        "lst=[1,2,3,9,3,3,4,2,5]\n",
        "print(\"Given elements in the list:\",lst)\n",
        "dups(lst)\n"
      ],
      "execution_count": null,
      "outputs": [
        {
          "output_type": "stream",
          "text": [
            "Given elements in the list: [1, 2, 3, 9, 3, 3, 4, 2, 5]\n",
            "Duplicates in the list: [2, 3]\n"
          ],
          "name": "stdout"
        }
      ]
    },
    {
      "cell_type": "markdown",
      "metadata": {
        "id": "I3n46TKimFsm"
      },
      "source": [
        "c)Write a function unique to find all unique elements of the list"
      ]
    },
    {
      "cell_type": "code",
      "metadata": {
        "colab": {
          "base_uri": "https://localhost:8080/"
        },
        "id": "QV9NVZlDNX3Y",
        "outputId": "e4e0ff35-c740-474b-effb-09c574dda50b"
      },
      "source": [
        "def unique(numlist):\n",
        "  temp=[]\n",
        "  for i in numlist:\n",
        "    cnt=numlist.count(i)\n",
        "    if cnt==1:\n",
        "      temp.append(i)\n",
        "  print(\"Unique ELements in the list:\",temp)\n",
        "lst=[1,2,3,9,3,3,4,2,5]\n",
        "print(\"Given elements in the list:\",lst)\n",
        "unique(lst)"
      ],
      "execution_count": null,
      "outputs": [
        {
          "output_type": "stream",
          "text": [
            "Given elements in the list: [1, 2, 3, 9, 3, 3, 4, 2, 5]\n",
            "Unique ELements in the list: [1, 9, 4, 5]\n"
          ],
          "name": "stdout"
        }
      ]
    },
    {
      "cell_type": "markdown",
      "metadata": {
        "id": "F1mOYALnmZp5"
      },
      "source": [
        "EXERCISE-10 FUNCTIONS PROBLEM SOLVING\n",
        "\n",
        "a) Write a function cumulative product to compute cumulative product of a list of numbers"
      ]
    },
    {
      "cell_type": "code",
      "metadata": {
        "colab": {
          "base_uri": "https://localhost:8080/"
        },
        "id": "2w1qsU0tOBBb",
        "outputId": "034fd6f1-664f-41f5-f2bb-dc76d2dfd22a"
      },
      "source": [
        "def cum_prod(numlist):\n",
        "  prod=1\n",
        "  temp=[]\n",
        "  for i in numlist:\n",
        "    prod*=i\n",
        "    temp.append(prod)\n",
        "  return temp\n",
        "lst=[1,3,6,5,7]\n",
        "print(\"Given list is:\",lst)\n",
        "print(\"Cumulative Product list is:\",cum_prod(lst))"
      ],
      "execution_count": null,
      "outputs": [
        {
          "output_type": "stream",
          "text": [
            "Given list is: [1, 3, 6, 5, 7]\n",
            "Cumulative Product list is: [1, 3, 18, 90, 630]\n"
          ],
          "name": "stdout"
        }
      ]
    },
    {
      "cell_type": "markdown",
      "metadata": {
        "id": "_lDT0m-5mtNB"
      },
      "source": [
        "b) Write a function reverse to reverse a list Without using the reverse function"
      ]
    },
    {
      "cell_type": "code",
      "metadata": {
        "colab": {
          "base_uri": "https://localhost:8080/"
        },
        "id": "6Peil3DmOZgR",
        "outputId": "79cb7df2-5210-46a3-e798-5d560489f447"
      },
      "source": [
        "def reverse_list(numlist):\n",
        "  i=0\n",
        "  j=len(numlist)-1\n",
        "  while(i<=j):\n",
        "    temp=numlist[i]\n",
        "    numlist[i]=numlist[j]\n",
        "    numlist[j]=temp\n",
        "    j-=1\n",
        "    i+=1\n",
        "  return numlist\n",
        "lst=[2,6,3,9]\n",
        "print(\"Given list is:\",lst)\n",
        "reverse_list(lst)\n",
        "print(\"Reverse of the given list is:\",lst)"
      ],
      "execution_count": null,
      "outputs": [
        {
          "output_type": "stream",
          "text": [
            "Given list is: [2, 6, 3, 9]\n",
            "Reverse of the given list is: [9, 3, 6, 2]\n"
          ],
          "name": "stdout"
        }
      ]
    },
    {
      "cell_type": "markdown",
      "metadata": {
        "id": "fw_13qMOnOes"
      },
      "source": [
        "c) Write function to compute gcd, lcm of two numbers.Each function shouldn't exceed one line"
      ]
    },
    {
      "cell_type": "code",
      "metadata": {
        "colab": {
          "base_uri": "https://localhost:8080/"
        },
        "id": "vYFeUFobO8he",
        "outputId": "9f95308a-5c21-4dba-8b27-d3f9baa64757"
      },
      "source": [
        "gcd=lambda a,b:a if b==0 else gcd(a,a%b)\n",
        "lcm=lambda a,b:(a*b)/gcd(a,b)\n",
        "x=4\n",
        "y=24\n",
        "print(\"The Given numbers:\",x,y)\n",
        "print(\"GCD is :\",gcd(x,y))\n",
        "print(\"LCM is :\",lcm(x,y))"
      ],
      "execution_count": null,
      "outputs": [
        {
          "output_type": "stream",
          "text": [
            "The Given numbers: 4 24\n",
            "GCD is : 4\n",
            "LCM is : 24.0\n"
          ],
          "name": "stdout"
        }
      ]
    }
  ]
}